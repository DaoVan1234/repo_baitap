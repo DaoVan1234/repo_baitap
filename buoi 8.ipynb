{
 "cells": [
  {
   "cell_type": "code",
   "execution_count": 3,
   "id": "1312855b",
   "metadata": {},
   "outputs": [
    {
     "name": "stdout",
     "output_type": "stream",
     "text": [
      "1-2-3."
     ]
    }
   ],
   "source": [
    "print (1,2,3, sep='-', end= '.')"
   ]
  },
  {
   "cell_type": "code",
   "execution_count": null,
   "id": "cd88c9fc",
   "metadata": {},
   "outputs": [],
   "source": [
    "nam_sinh = input (\"Nhap nam sinh:\")\n",
    "tuoi = 2022-int(nam_sinh)\n",
    "print (\"So tuoi cua ban la:\",tuoi)"
   ]
  },
  {
   "cell_type": "code",
   "execution_count": 1,
   "id": "d30d4658",
   "metadata": {},
   "outputs": [
    {
     "name": "stdout",
     "output_type": "stream",
     "text": [
      "ky tu dau tien: C\n",
      "ky tu cuoi cung: a\n",
      "ky tu o giua: y\n",
      "Chu\n",
      "ua\n",
      "Chuoi nguoc lai la: a\n",
      "ChuoinaydaiquaChuoinaydaiquaChuoinaydaiqua\n"
     ]
    }
   ],
   "source": [
    "chuoi = \"Chuoinaydaiqua\"\n",
    "so_lan = 3\n",
    "print(\"ky tu dau tien:\",chuoi[0])\n",
    "print(\"ky tu cuoi cung:\",chuoi[-1])\n",
    "print(\"ky tu o giua:\",chuoi[len(chuoi)//2])\n",
    "print(chuoi[:3])\n",
    "print(chuoi[-2:])\n",
    "print(\"Chuoi nguoc lai la:\",chuoi[-1::])\n",
    "print(chuoi*so_lan)"
   ]
  },
  {
   "cell_type": "code",
   "execution_count": 2,
   "id": "06be42c7",
   "metadata": {},
   "outputs": [
    {
     "name": "stdout",
     "output_type": "stream",
     "text": [
      "Nhap ban kinh: 50\n",
      "Chu vi của hình tròn có bán kính = 50 là 314.1592653589793\n",
      "Diện tích của hình tròn có bán kính = 50 là 7853.981633974483\n"
     ]
    }
   ],
   "source": [
    "import turtle\n",
    "import math\n",
    "\n",
    "r = int(input(\"Nhap ban kinh: \"))\n",
    "\n",
    "t = turtle.Turtle()\n",
    "t.hideturtle()\n",
    "t.pensize(1)\n",
    "t.color(\"red\")\n",
    "t.circle(r)\n",
    "turtle.done()\n",
    "\n",
    "#tinh chu vi duong tron 2r*3.14\n",
    "c = 2*math.pi*r\n",
    "#tinh dien tich hinh tron 3.14*r*r\n",
    "s = math.pi*r*r\n",
    "\n",
    "print(\"Chu vi của hình tròn có bán kính = {r} là {c}\".format(r=r, c=c))\n",
    "print(\"Diện tích của hình tròn có bán kính = {r} là {s}\".format(r=r, s=s))"
   ]
  },
  {
   "cell_type": "code",
   "execution_count": null,
   "id": "3139de93",
   "metadata": {},
   "outputs": [],
   "source": [
    "import turtle\n",
    "\n",
    "color = input(\"Nhập màu hoặc mã màu: \")\n",
    "w = float(input(\"Nhập chiều dài hình chữ nhật: \"))\n",
    "h = float(input(\"Nhập chiều rộng hình chữ nhật: \"))\n",
    " \n",
    "t = turtle.Turtle()\n",
    "t.hideturtle()\n",
    "t.color(color)\n",
    "t.begin_fill()\n",
    "t.forward(w)\n",
    "t.right(90)\n",
    "t.forward(h)\n",
    "t.right(90)\n",
    "t.forward(w)\n",
    "t.right(90)\n",
    "t.forward(h)\n",
    "t.end_fill()\n",
    "turtle.done()\n",
    "\n",
    "c = 2 * (w + h)\n",
    "s = w * h\n",
    "\n",
    "print(\"Chu vi của hình chữ nhật (dài = {w}, rộng = {h}) là {c}\".format(w=w, h=h, c=c))\n",
    "print(\"Diện tích của hình chữ nhật (dài = {w}, rộng = {h}) là {s}\".format(w=w, h=h, s=s))"
   ]
  },
  {
   "cell_type": "code",
   "execution_count": 6,
   "id": "19a09134",
   "metadata": {},
   "outputs": [
    {
     "name": "stdout",
     "output_type": "stream",
     "text": [
      "Nhập số tiền USD cần đổi: 10\n",
      "Nhập tỉ giá USD/VND: 23500\n",
      "số tiền VND theo tỉ giá 23500 và số tiền 10 USD là 235000 VND \n"
     ]
    }
   ],
   "source": [
    "usd = input(\"Nhập số tiền USD cần đổi: \")\n",
    "ti_gia = input(\"Nhập tỉ giá USD/VND: \")\n",
    "vnd = int(usd) * int(ti_gia)\n",
    "print(\"số tiền VND theo tỉ giá {ti_gia} và số tiền {usd} USD là {vnd} VND \".format(ti_gia=ti_gia,usd=usd,vnd=vnd))"
   ]
  },
  {
   "cell_type": "code",
   "execution_count": null,
   "id": "9c4cb832",
   "metadata": {},
   "outputs": [],
   "source": []
  },
  {
   "cell_type": "code",
   "execution_count": null,
   "id": "faf57273",
   "metadata": {},
   "outputs": [],
   "source": []
  },
  {
   "cell_type": "code",
   "execution_count": null,
   "id": "ea751508",
   "metadata": {},
   "outputs": [],
   "source": []
  },
  {
   "cell_type": "code",
   "execution_count": null,
   "id": "f5c2fb1e",
   "metadata": {},
   "outputs": [],
   "source": []
  },
  {
   "cell_type": "code",
   "execution_count": null,
   "id": "94299884",
   "metadata": {},
   "outputs": [],
   "source": []
  },
  {
   "cell_type": "code",
   "execution_count": null,
   "id": "d07be579",
   "metadata": {},
   "outputs": [],
   "source": []
  },
  {
   "cell_type": "code",
   "execution_count": null,
   "id": "db9e703d",
   "metadata": {},
   "outputs": [],
   "source": []
  },
  {
   "cell_type": "code",
   "execution_count": null,
   "id": "0d4b1159",
   "metadata": {},
   "outputs": [],
   "source": []
  },
  {
   "cell_type": "code",
   "execution_count": null,
   "id": "7c0b6529",
   "metadata": {},
   "outputs": [],
   "source": []
  },
  {
   "cell_type": "code",
   "execution_count": null,
   "id": "21785280",
   "metadata": {},
   "outputs": [],
   "source": []
  },
  {
   "cell_type": "code",
   "execution_count": null,
   "id": "14e9d691",
   "metadata": {},
   "outputs": [],
   "source": []
  },
  {
   "cell_type": "code",
   "execution_count": null,
   "id": "51ee2ebf",
   "metadata": {},
   "outputs": [],
   "source": []
  },
  {
   "cell_type": "code",
   "execution_count": null,
   "id": "640e52cb",
   "metadata": {},
   "outputs": [],
   "source": []
  }
 ],
 "metadata": {
  "kernelspec": {
   "display_name": "Python 3 (ipykernel)",
   "language": "python",
   "name": "python3"
  },
  "language_info": {
   "codemirror_mode": {
    "name": "ipython",
    "version": 3
   },
   "file_extension": ".py",
   "mimetype": "text/x-python",
   "name": "python",
   "nbconvert_exporter": "python",
   "pygments_lexer": "ipython3",
   "version": "3.10.4"
  }
 },
 "nbformat": 4,
 "nbformat_minor": 5
}
