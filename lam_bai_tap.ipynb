{
 "cells": [
  {
   "cell_type": "code",
   "execution_count": null,
   "id": "2bd5f423",
   "metadata": {},
   "outputs": [],
   "source": [
    "my_number = int(input(\"Nhập số nguyên bất kỳ: \"))\n",
    "if my_number % 2 == 0:\n",
    "    print(\"Đây là số chẵn.\")\n",
    "else:\n",
    "    print(\"Đây là số lẻ.\")"
   ]
  },
  {
   "cell_type": "code",
   "execution_count": null,
   "id": "448b8f3e",
   "metadata": {},
   "outputs": [],
   "source": [
    "a = input(\"Nhập một số: \")\n",
    "a = float(a)\n",
    "if a % 2 == 0:\n",
    "    print('số chẵn')\n",
    "elif a % 2 == 1:\n",
    "    print('số lẻ')\n",
    "else:\n",
    "    print('không phải số tự nhiên')"
   ]
  },
  {
   "cell_type": "code",
   "execution_count": null,
   "id": "b2d4e722",
   "metadata": {},
   "outputs": [],
   "source": [
    "my_num = int(input(\"Nhập một số (từ 1 đến 7): \"))\n",
    "if my_num == 1 : print(\"Monday\")\n",
    "elif my_num == 2: print(\"Tuesday\")\n",
    "elif my_num == 3: print(\"Wednesday\")\n",
    "elif my_num == 4: print(\"Thursday\")\n",
    "elif my_num == 5: print(\"Friday\")\n",
    "elif my_num == 6: print(\"Saturday\")\n",
    "elif my_num == 7: print(\"Sunday\")\n",
    "else: print(\"Nhập không chính xác.\")"
   ]
  },
  {
   "cell_type": "code",
   "execution_count": null,
   "id": "41548c45",
   "metadata": {},
   "outputs": [],
   "source": [
    "mynum = int(input(\"Nhập giá: \"))\n",
    "if mynum >= 150:print(\"Tổng số tiền là: \", mynum - 50)\n",
    "elif mynum >= 100:print(\"Tổng số tiền là: \", mynum - 25)\n",
    "elif mynum >= 75:print(\"Tổng số tiền là: \", mynum - 15)\n",
    "else:print(\"Tổng số tiền là: \", mynum)"
   ]
  },
  {
   "cell_type": "code",
   "execution_count": 10,
   "id": "2833b512",
   "metadata": {},
   "outputs": [
    {
     "name": "stdout",
     "output_type": "stream",
     "text": [
      "Nhập chiều cao (mét): 1.62\n",
      "Nhập cân nặng (kg): 47.0\n",
      "Gầy cấp độ I\n"
     ]
    }
   ],
   "source": [
    "chieucao = float(input(\"Nhập chiều cao (mét): \"))\n",
    "cannang = float(input(\"Nhập cân nặng (kg): \"))\n",
    "bmi = cannang/(chieucao**2)\n",
    "if bmi > 40 : print(\"Béo phì cấp độ III\")\n",
    "elif 35 <= bmi < 40 : print(\"Béo phì cấp độ II\")\n",
    "elif 30 <= bmi < 35 : print(\"Béo phì cấp độ I\")\n",
    "elif 25 <= bmi < 30 : print(\"Thừa cân\")\n",
    "elif 18.5 <= bmi < 25 : print(\"Bình thường\")\n",
    "elif 17 <= bmi < 18.5 : print(\"Gầy cấp độ I\")    \n",
    "elif 16 <= bmi < 17 : print(\"Gầy cấp độ II\")    \n",
    "elif bmi < 16 : print(\"Gầy cấp độ III\")"
   ]
  },
  {
   "cell_type": "code",
   "execution_count": null,
   "id": "15aa90f9",
   "metadata": {},
   "outputs": [],
   "source": []
  }
 ],
 "metadata": {
  "kernelspec": {
   "display_name": "Python 3 (ipykernel)",
   "language": "python",
   "name": "python3"
  },
  "language_info": {
   "codemirror_mode": {
    "name": "ipython",
    "version": 3
   },
   "file_extension": ".py",
   "mimetype": "text/x-python",
   "name": "python",
   "nbconvert_exporter": "python",
   "pygments_lexer": "ipython3",
   "version": "3.10.4"
  }
 },
 "nbformat": 4,
 "nbformat_minor": 5
}
